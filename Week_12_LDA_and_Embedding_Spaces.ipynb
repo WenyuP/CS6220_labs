{
  "cells": [
    {
      "cell_type": "markdown",
      "source": [
        "# Lecture 10 - Lab 1"
      ],
      "metadata": {
        "id": "fJE8eYXgsV4U"
      }
    },
    {
      "cell_type": "code",
      "source": [
        "!pip install lda\n",
        "\n",
        "import numpy as np\n",
        "import lda\n",
        "import lda.datasets\n",
        "X = lda.datasets.load_reuters()\n",
        "vocab = lda.datasets.load_reuters_vocab()\n",
        "titles = lda.datasets.load_reuters_titles()\n",
        "print(X.shape, X.sum())\n",
        "\n",
        "model = lda.LDA(n_topics=20, n_iter=1500, random_state=1)\n",
        "model.fit(X)  # model.fit_transform(X) is also available\n",
        "topic_word = model.topic_word_  # model.components_ also works\n",
        "\n",
        "n_top_words = 8\n",
        "for i, topic_dist in enumerate(topic_word):\n",
        "  topic_words = np.array(vocab)[np.argsort(topic_dist)][:-(n_top_words+1):-1]\n",
        "  print('Topic {}: {}'.format(i, ' '.join(topic_words)))\n",
        "\n",
        "# The document-topic distributions are available in model.doc_topic_.\n",
        "doc_topic = model.doc_topic_\n",
        "for i in range(10):\n",
        "  print(\"{} (top topic: {})\".format(titles[i], doc_topic[i].argmax()))"
      ],
      "metadata": {
        "id": "UA4luw2mrzok"
      },
      "execution_count": null,
      "outputs": []
    },
    {
      "cell_type": "markdown",
      "source": [
        "# Lecture 10, Lab 2"
      ],
      "metadata": {
        "id": "NAvPVIpi53a1"
      }
    },
    {
      "cell_type": "code",
      "source": [
        "#@title Make sure to setup runtime with a GPU\n",
        "\n",
        "print(\"Importing libraries since this is the first time you've run this!\")\n",
        "from PIL import Image\n",
        "import requests\n",
        "import pandas as pd\n",
        "import torch\n",
        "import numpy as np\n",
        "import ipywidgets as ipyw\n",
        "\n",
        "# Machine learning imports\n",
        "!pip install diffusers==0.11.1 transformers ftfy accelerate\n",
        "from transformers import CLIPProcessor, CLIPModel\n",
        "\n",
        "model = CLIPModel.from_pretrained(\"openai/clip-vit-large-patch14\")\n",
        "processor = CLIPProcessor.from_pretrained(\"openai/clip-vit-large-patch14\")\n"
      ],
      "metadata": {
        "id": "0_GnVJcd56_7",
        "outputId": "ebf2d331-c001-4306-c328-e2c2f9abfdb1",
        "colab": {
          "base_uri": "https://localhost:8080/"
        }
      },
      "execution_count": 2,
      "outputs": [
        {
          "output_type": "stream",
          "name": "stdout",
          "text": [
            "Importing libraries since this is the first time you've run this!\n",
            "Requirement already satisfied: diffusers==0.11.1 in /usr/local/lib/python3.10/dist-packages (0.11.1)\n",
            "Requirement already satisfied: transformers in /usr/local/lib/python3.10/dist-packages (4.35.2)\n",
            "Requirement already satisfied: ftfy in /usr/local/lib/python3.10/dist-packages (6.1.3)\n",
            "Requirement already satisfied: accelerate in /usr/local/lib/python3.10/dist-packages (0.24.1)\n",
            "Requirement already satisfied: importlib-metadata in /usr/local/lib/python3.10/dist-packages (from diffusers==0.11.1) (6.8.0)\n",
            "Requirement already satisfied: filelock in /usr/local/lib/python3.10/dist-packages (from diffusers==0.11.1) (3.13.1)\n",
            "Requirement already satisfied: huggingface-hub>=0.10.0 in /usr/local/lib/python3.10/dist-packages (from diffusers==0.11.1) (0.19.4)\n",
            "Requirement already satisfied: numpy in /usr/local/lib/python3.10/dist-packages (from diffusers==0.11.1) (1.23.5)\n",
            "Requirement already satisfied: regex!=2019.12.17 in /usr/local/lib/python3.10/dist-packages (from diffusers==0.11.1) (2023.6.3)\n",
            "Requirement already satisfied: requests in /usr/local/lib/python3.10/dist-packages (from diffusers==0.11.1) (2.31.0)\n",
            "Requirement already satisfied: Pillow in /usr/local/lib/python3.10/dist-packages (from diffusers==0.11.1) (9.4.0)\n",
            "Requirement already satisfied: packaging>=20.0 in /usr/local/lib/python3.10/dist-packages (from transformers) (23.2)\n",
            "Requirement already satisfied: pyyaml>=5.1 in /usr/local/lib/python3.10/dist-packages (from transformers) (6.0.1)\n",
            "Requirement already satisfied: tokenizers<0.19,>=0.14 in /usr/local/lib/python3.10/dist-packages (from transformers) (0.15.0)\n",
            "Requirement already satisfied: safetensors>=0.3.1 in /usr/local/lib/python3.10/dist-packages (from transformers) (0.4.0)\n",
            "Requirement already satisfied: tqdm>=4.27 in /usr/local/lib/python3.10/dist-packages (from transformers) (4.66.1)\n",
            "Requirement already satisfied: wcwidth<0.3.0,>=0.2.12 in /usr/local/lib/python3.10/dist-packages (from ftfy) (0.2.12)\n",
            "Requirement already satisfied: psutil in /usr/local/lib/python3.10/dist-packages (from accelerate) (5.9.5)\n",
            "Requirement already satisfied: torch>=1.10.0 in /usr/local/lib/python3.10/dist-packages (from accelerate) (2.1.0+cu118)\n",
            "Requirement already satisfied: fsspec>=2023.5.0 in /usr/local/lib/python3.10/dist-packages (from huggingface-hub>=0.10.0->diffusers==0.11.1) (2023.6.0)\n",
            "Requirement already satisfied: typing-extensions>=3.7.4.3 in /usr/local/lib/python3.10/dist-packages (from huggingface-hub>=0.10.0->diffusers==0.11.1) (4.5.0)\n",
            "Requirement already satisfied: sympy in /usr/local/lib/python3.10/dist-packages (from torch>=1.10.0->accelerate) (1.12)\n",
            "Requirement already satisfied: networkx in /usr/local/lib/python3.10/dist-packages (from torch>=1.10.0->accelerate) (3.2.1)\n",
            "Requirement already satisfied: jinja2 in /usr/local/lib/python3.10/dist-packages (from torch>=1.10.0->accelerate) (3.1.2)\n",
            "Requirement already satisfied: triton==2.1.0 in /usr/local/lib/python3.10/dist-packages (from torch>=1.10.0->accelerate) (2.1.0)\n",
            "Requirement already satisfied: zipp>=0.5 in /usr/local/lib/python3.10/dist-packages (from importlib-metadata->diffusers==0.11.1) (3.17.0)\n",
            "Requirement already satisfied: charset-normalizer<4,>=2 in /usr/local/lib/python3.10/dist-packages (from requests->diffusers==0.11.1) (3.3.2)\n",
            "Requirement already satisfied: idna<4,>=2.5 in /usr/local/lib/python3.10/dist-packages (from requests->diffusers==0.11.1) (3.4)\n",
            "Requirement already satisfied: urllib3<3,>=1.21.1 in /usr/local/lib/python3.10/dist-packages (from requests->diffusers==0.11.1) (2.0.7)\n",
            "Requirement already satisfied: certifi>=2017.4.17 in /usr/local/lib/python3.10/dist-packages (from requests->diffusers==0.11.1) (2023.7.22)\n",
            "Requirement already satisfied: MarkupSafe>=2.0 in /usr/local/lib/python3.10/dist-packages (from jinja2->torch>=1.10.0->accelerate) (2.1.3)\n",
            "Requirement already satisfied: mpmath>=0.19 in /usr/local/lib/python3.10/dist-packages (from sympy->torch>=1.10.0->accelerate) (1.3.0)\n"
          ]
        },
        {
          "output_type": "stream",
          "name": "stderr",
          "text": [
            "`text_config_dict` is provided which will be used to initialize `CLIPTextConfig`. The value `text_config[\"id2label\"]` will be overriden.\n",
            "`text_config_dict` is provided which will be used to initialize `CLIPTextConfig`. The value `text_config[\"bos_token_id\"]` will be overriden.\n",
            "`text_config_dict` is provided which will be used to initialize `CLIPTextConfig`. The value `text_config[\"eos_token_id\"]` will be overriden.\n"
          ]
        }
      ]
    },
    {
      "cell_type": "code",
      "source": [
        "#@title Specify your inputs: image URL and list of text\n",
        "\n",
        "image_url = \"https://i.etsystatic.com/6329281/r/il/8be9d0/246499951/il_640xN.246499951.jpg\" #@param\n",
        "object_or_taxo = [\"sculpture\", \"crystal tiger\", \"runny nose\", \"red river\", \"golden spire\", \"restaurant bar and scene\"] #@param"
      ],
      "metadata": {
        "colab": {
          "base_uri": "https://localhost:8080/",
          "height": 875,
          "referenced_widgets": [
            "170cad66db994222a9c4b6586ec34777",
            "005bfa743c6643e3b549eb45387cb222",
            "6ab1a7aa3ef04fcd82b7850cadbd0e1f",
            "cac09631994247ccacf83188d0a3b34e",
            "8751ed6109b14e648ca39d98b9b83f13",
            "d9ebf40d79634537ab38bd55dae123d3",
            "9b85e72ad7de4ea18e9ec05e0dff0e19",
            "ac426404a59b4e45bd7054f87e1365f2"
          ]
        },
        "id": "MDUrCebWT8li",
        "outputId": "7c9cd6b4-039b-47ad-97ee-9069e3b52f46",
        "cellView": "form"
      },
      "execution_count": null,
      "outputs": [
        {
          "output_type": "display_data",
          "data": {
            "text/plain": [
              "HBox(children=(HTML(value='<div id=\"img\" style=\"float:left\"><img style=\"vertical-align:middle\" src=\"https://i.…"
            ],
            "application/vnd.jupyter.widget-view+json": {
              "version_major": 2,
              "version_minor": 0,
              "model_id": "170cad66db994222a9c4b6586ec34777"
            }
          },
          "metadata": {}
        }
      ]
    },
    {
      "cell_type": "code",
      "source": [
        "#@title Classify any image with any text (zero shot learning)\n",
        "\n",
        "# Open a connection to download the image (it's an Etsy image)\n",
        "image = Image.open(requests.get(image_url.replace(\"1588\", \"640\"), stream=True).raw)\n",
        "\n",
        "# Ingest text and image into the model and the run forward propagation\n",
        "inputs = processor(text=prompts, images=image, return_tensors=\"pt\", padding=True)\n",
        "outputs = model(**inputs)\n",
        "\n",
        "# Find the image and text embeddings, each normalized to L2 = 1. You can use\n",
        "# PyTorch or Numpy. If you choose to use numpy, you can run the following:\n",
        "#\n",
        "#    PyTorchVariable.detach().numpy()\n",
        "#\n",
        "# This will detach the Torch variable from the DNN graphy and then make it a\n",
        "# numpy array, which you can then use to do whatever you want.\n",
        "text_embeddings = outputs.text_embeds\n",
        "image_embeddings = outputs.image_embeds\n",
        "\n",
        "# Find the best text prompt that matches your image\n",
        "print(text_embeddings @ image_embeddings.T)"
      ],
      "metadata": {
        "colab": {
          "base_uri": "https://localhost:8080/",
          "height": 242
        },
        "id": "jVuCP2FEl9eq",
        "outputId": "91528f83-14f6-43a6-af37-d1bd327626e9"
      },
      "execution_count": 5,
      "outputs": [
        {
          "output_type": "error",
          "ename": "NameError",
          "evalue": "ignored",
          "traceback": [
            "\u001b[0;31m---------------------------------------------------------------------------\u001b[0m",
            "\u001b[0;31mNameError\u001b[0m                                 Traceback (most recent call last)",
            "\u001b[0;32m<ipython-input-5-e308b870f768>\u001b[0m in \u001b[0;36m<cell line: 4>\u001b[0;34m()\u001b[0m\n\u001b[1;32m      2\u001b[0m \u001b[0;34m\u001b[0m\u001b[0m\n\u001b[1;32m      3\u001b[0m \u001b[0;31m# Open a connection to download the image (it's an Etsy image)\u001b[0m\u001b[0;34m\u001b[0m\u001b[0;34m\u001b[0m\u001b[0m\n\u001b[0;32m----> 4\u001b[0;31m \u001b[0mimage\u001b[0m \u001b[0;34m=\u001b[0m \u001b[0mImage\u001b[0m\u001b[0;34m.\u001b[0m\u001b[0mopen\u001b[0m\u001b[0;34m(\u001b[0m\u001b[0mrequests\u001b[0m\u001b[0;34m.\u001b[0m\u001b[0mget\u001b[0m\u001b[0;34m(\u001b[0m\u001b[0mimage_url\u001b[0m\u001b[0;34m.\u001b[0m\u001b[0mreplace\u001b[0m\u001b[0;34m(\u001b[0m\u001b[0;34m\"1588\"\u001b[0m\u001b[0;34m,\u001b[0m \u001b[0;34m\"640\"\u001b[0m\u001b[0;34m)\u001b[0m\u001b[0;34m,\u001b[0m \u001b[0mstream\u001b[0m\u001b[0;34m=\u001b[0m\u001b[0;32mTrue\u001b[0m\u001b[0;34m)\u001b[0m\u001b[0;34m.\u001b[0m\u001b[0mraw\u001b[0m\u001b[0;34m)\u001b[0m\u001b[0;34m\u001b[0m\u001b[0;34m\u001b[0m\u001b[0m\n\u001b[0m\u001b[1;32m      5\u001b[0m \u001b[0;34m\u001b[0m\u001b[0m\n\u001b[1;32m      6\u001b[0m \u001b[0;31m# Ingest text and image into the model and the run forward propagation\u001b[0m\u001b[0;34m\u001b[0m\u001b[0;34m\u001b[0m\u001b[0m\n",
            "\u001b[0;31mNameError\u001b[0m: name 'image_url' is not defined"
          ]
        }
      ]
    }
  ],
  "metadata": {
    "colab": {
      "provenance": [],
      "gpuType": "T4",
      "toc_visible": true
    },
    "kernelspec": {
      "display_name": "Python 3",
      "name": "python3"
    },
    "language_info": {
      "name": "python"
    },
    "accelerator": "GPU",
    "widgets": {
      "application/vnd.jupyter.widget-state+json": {
        "170cad66db994222a9c4b6586ec34777": {
          "model_module": "@jupyter-widgets/controls",
          "model_name": "HBoxModel",
          "model_module_version": "1.5.0",
          "state": {
            "_dom_classes": [],
            "_model_module": "@jupyter-widgets/controls",
            "_model_module_version": "1.5.0",
            "_model_name": "HBoxModel",
            "_view_count": null,
            "_view_module": "@jupyter-widgets/controls",
            "_view_module_version": "1.5.0",
            "_view_name": "HBoxView",
            "box_style": "",
            "children": [
              "IPY_MODEL_005bfa743c6643e3b549eb45387cb222",
              "IPY_MODEL_6ab1a7aa3ef04fcd82b7850cadbd0e1f"
            ],
            "layout": "IPY_MODEL_cac09631994247ccacf83188d0a3b34e"
          }
        },
        "005bfa743c6643e3b549eb45387cb222": {
          "model_module": "@jupyter-widgets/controls",
          "model_name": "HTMLModel",
          "model_module_version": "1.5.0",
          "state": {
            "_dom_classes": [],
            "_model_module": "@jupyter-widgets/controls",
            "_model_module_version": "1.5.0",
            "_model_name": "HTMLModel",
            "_view_count": null,
            "_view_module": "@jupyter-widgets/controls",
            "_view_module_version": "1.5.0",
            "_view_name": "HTMLView",
            "description": "",
            "description_tooltip": null,
            "layout": "IPY_MODEL_8751ed6109b14e648ca39d98b9b83f13",
            "placeholder": "​",
            "style": "IPY_MODEL_d9ebf40d79634537ab38bd55dae123d3",
            "value": "<div id=\"img\" style=\"float:left\"><img style=\"vertical-align:middle\" src=\"https://i.etsystatic.com/6329281/r/il/8be9d0/246499951/il_640xN.246499951.jpg\" alt=\"\"></div>"
          }
        },
        "6ab1a7aa3ef04fcd82b7850cadbd0e1f": {
          "model_module": "@jupyter-widgets/controls",
          "model_name": "HTMLModel",
          "model_module_version": "1.5.0",
          "state": {
            "_dom_classes": [],
            "_model_module": "@jupyter-widgets/controls",
            "_model_module_version": "1.5.0",
            "_model_name": "HTMLModel",
            "_view_count": null,
            "_view_module": "@jupyter-widgets/controls",
            "_view_module_version": "1.5.0",
            "_view_name": "HTMLView",
            "description": "",
            "description_tooltip": null,
            "layout": "IPY_MODEL_9b85e72ad7de4ea18e9ec05e0dff0e19",
            "placeholder": "​",
            "style": "IPY_MODEL_ac426404a59b4e45bd7054f87e1365f2",
            "value": "<style type=\"text/css\">\n</style>\n<table id=\"T_4f034\" style='border:2px solid;font-size:10px;margin:10px'>\n  <caption>Classification Results</caption>\n  <thead>\n    <tr>\n      <th class=\"blank level0\" >&nbsp;</th>\n      <th id=\"T_4f034_level0_col0\" class=\"col_heading level0 col0\" >class</th>\n      <th id=\"T_4f034_level0_col1\" class=\"col_heading level0 col1\" >probability</th>\n    </tr>\n  </thead>\n  <tbody>\n    <tr>\n      <th id=\"T_4f034_level0_row0\" class=\"row_heading level0 row0\" >3</th>\n      <td id=\"T_4f034_row0_col0\" class=\"data row0 col0\" >eclectic sculpture</td>\n      <td id=\"T_4f034_row0_col1\" class=\"data row0 col1\" >0.215355</td>\n    </tr>\n    <tr>\n      <th id=\"T_4f034_level0_row1\" class=\"row_heading level0 row1\" >14</th>\n      <td id=\"T_4f034_row1_col0\" class=\"data row1 col0\" >mid-century sculpture</td>\n      <td id=\"T_4f034_row1_col1\" class=\"data row1 col1\" >0.191225</td>\n    </tr>\n    <tr>\n      <th id=\"T_4f034_level0_row2\" class=\"row_heading level0 row2\" >6</th>\n      <td id=\"T_4f034_row2_col0\" class=\"data row2 col0\" >contemporary sculpture</td>\n      <td id=\"T_4f034_row2_col1\" class=\"data row2 col1\" >0.187068</td>\n    </tr>\n    <tr>\n      <th id=\"T_4f034_level0_row3\" class=\"row_heading level0 row3\" >2</th>\n      <td id=\"T_4f034_row3_col0\" class=\"data row3 col0\" >bohemian sculpture</td>\n      <td id=\"T_4f034_row3_col1\" class=\"data row3 col1\" >0.122432</td>\n    </tr>\n    <tr>\n      <th id=\"T_4f034_level0_row4\" class=\"row_heading level0 row4\" >0</th>\n      <td id=\"T_4f034_row4_col0\" class=\"data row4 col0\" >art deco sculpture</td>\n      <td id=\"T_4f034_row4_col1\" class=\"data row4 col1\" >0.095406</td>\n    </tr>\n    <tr>\n      <th id=\"T_4f034_level0_row5\" class=\"row_heading level0 row5\" >21</th>\n      <td id=\"T_4f034_row5_col0\" class=\"data row5 col0\" >southwestern sculpture</td>\n      <td id=\"T_4f034_row5_col1\" class=\"data row5 col1\" >0.043349</td>\n    </tr>\n    <tr>\n      <th id=\"T_4f034_level0_row6\" class=\"row_heading level0 row6\" >20</th>\n      <td id=\"T_4f034_row6_col0\" class=\"data row6 col0\" >shaker sculpture</td>\n      <td id=\"T_4f034_row6_col1\" class=\"data row6 col1\" >0.040923</td>\n    </tr>\n    <tr>\n      <th id=\"T_4f034_level0_row7\" class=\"row_heading level0 row7\" >18</th>\n      <td id=\"T_4f034_row7_col0\" class=\"data row7 col0\" >primitive sculpture</td>\n      <td id=\"T_4f034_row7_col1\" class=\"data row7 col1\" >0.018456</td>\n    </tr>\n    <tr>\n      <th id=\"T_4f034_level0_row8\" class=\"row_heading level0 row8\" >19</th>\n      <td id=\"T_4f034_row8_col0\" class=\"data row8 col0\" >scandinavian sculpture</td>\n      <td id=\"T_4f034_row8_col1\" class=\"data row8 col1\" >0.015177</td>\n    </tr>\n    <tr>\n      <th id=\"T_4f034_level0_row9\" class=\"row_heading level0 row9\" >11</th>\n      <td id=\"T_4f034_row9_col0\" class=\"data row9 col0\" >utility sculpture</td>\n      <td id=\"T_4f034_row9_col1\" class=\"data row9 col1\" >0.013417</td>\n    </tr>\n    <tr>\n      <th id=\"T_4f034_level0_row10\" class=\"row_heading level0 row10\" >15</th>\n      <td id=\"T_4f034_row10_col0\" class=\"data row10 col0\" >minimalist sculpture</td>\n      <td id=\"T_4f034_row10_col1\" class=\"data row10 col1\" >0.012309</td>\n    </tr>\n    <tr>\n      <th id=\"T_4f034_level0_row11\" class=\"row_heading level0 row11\" >13</th>\n      <td id=\"T_4f034_row11_col0\" class=\"data row11 col0\" >lodge sculpture</td>\n      <td id=\"T_4f034_row11_col1\" class=\"data row11 col1\" >0.010968</td>\n    </tr>\n    <tr>\n      <th id=\"T_4f034_level0_row12\" class=\"row_heading level0 row12\" >23</th>\n      <td id=\"T_4f034_row12_col0\" class=\"data row12 col0\" >victorian sculpture</td>\n      <td id=\"T_4f034_row12_col1\" class=\"data row12 col1\" >0.007198</td>\n    </tr>\n    <tr>\n      <th id=\"T_4f034_level0_row13\" class=\"row_heading level0 row13\" >17</th>\n      <td id=\"T_4f034_row13_col0\" class=\"data row13 col0\" >rustic sculpture</td>\n      <td id=\"T_4f034_row13_col1\" class=\"data row13 col1\" >0.006034</td>\n    </tr>\n    <tr>\n      <th id=\"T_4f034_level0_row14\" class=\"row_heading level0 row14\" >9</th>\n      <td id=\"T_4f034_row14_col0\" class=\"data row14 col0\" >gothic sculpture</td>\n      <td id=\"T_4f034_row14_col1\" class=\"data row14 col1\" >0.003654</td>\n    </tr>\n    <tr>\n      <th id=\"T_4f034_level0_row15\" class=\"row_heading level0 row15\" >22</th>\n      <td id=\"T_4f034_row15_col0\" class=\"data row15 col0\" >steampunk sculpture</td>\n      <td id=\"T_4f034_row15_col1\" class=\"data row15 col1\" >0.003007</td>\n    </tr>\n    <tr>\n      <th id=\"T_4f034_level0_row16\" class=\"row_heading level0 row16\" >8</th>\n      <td id=\"T_4f034_row16_col0\" class=\"data row16 col0\" >farmhouse sculpture</td>\n      <td id=\"T_4f034_row16_col1\" class=\"data row16 col1\" >0.002442</td>\n    </tr>\n    <tr>\n      <th id=\"T_4f034_level0_row17\" class=\"row_heading level0 row17\" >5</th>\n      <td id=\"T_4f034_row17_col0\" class=\"data row17 col0\" >colonial sculpture</td>\n      <td id=\"T_4f034_row17_col1\" class=\"data row17 col1\" >0.002288</td>\n    </tr>\n    <tr>\n      <th id=\"T_4f034_level0_row18\" class=\"row_heading level0 row18\" >4</th>\n      <td id=\"T_4f034_row18_col0\" class=\"data row18 col0\" >coastal sculpture</td>\n      <td id=\"T_4f034_row18_col1\" class=\"data row18 col1\" >0.002201</td>\n    </tr>\n    <tr>\n      <th id=\"T_4f034_level0_row19\" class=\"row_heading level0 row19\" >12</th>\n      <td id=\"T_4f034_row19_col0\" class=\"data row19 col0\" >industrial sculpture</td>\n      <td id=\"T_4f034_row19_col1\" class=\"data row19 col1\" >0.001988</td>\n    </tr>\n    <tr>\n      <th id=\"T_4f034_level0_row20\" class=\"row_heading level0 row20\" >1</th>\n      <td id=\"T_4f034_row20_col0\" class=\"data row20 col0\" >art nouveau sculpture</td>\n      <td id=\"T_4f034_row20_col1\" class=\"data row20 col1\" >0.001954</td>\n    </tr>\n    <tr>\n      <th id=\"T_4f034_level0_row21\" class=\"row_heading level0 row21\" >10</th>\n      <td id=\"T_4f034_row21_col0\" class=\"data row21 col0\" >hollywood regency sculpture</td>\n      <td id=\"T_4f034_row21_col1\" class=\"data row21 col1\" >0.001464</td>\n    </tr>\n    <tr>\n      <th id=\"T_4f034_level0_row22\" class=\"row_heading level0 row22\" >16</th>\n      <td id=\"T_4f034_row22_col0\" class=\"data row22 col0\" >mission sculpture</td>\n      <td id=\"T_4f034_row22_col1\" class=\"data row22 col1\" >0.001237</td>\n    </tr>\n    <tr>\n      <th id=\"T_4f034_level0_row23\" class=\"row_heading level0 row23\" >7</th>\n      <td id=\"T_4f034_row23_col0\" class=\"data row23 col0\" >country sculpture</td>\n      <td id=\"T_4f034_row23_col1\" class=\"data row23 col1\" >0.000446</td>\n    </tr>\n  </tbody>\n</table>\n"
          }
        },
        "cac09631994247ccacf83188d0a3b34e": {
          "model_module": "@jupyter-widgets/base",
          "model_name": "LayoutModel",
          "model_module_version": "1.2.0",
          "state": {
            "_model_module": "@jupyter-widgets/base",
            "_model_module_version": "1.2.0",
            "_model_name": "LayoutModel",
            "_view_count": null,
            "_view_module": "@jupyter-widgets/base",
            "_view_module_version": "1.2.0",
            "_view_name": "LayoutView",
            "align_content": null,
            "align_items": null,
            "align_self": null,
            "border": null,
            "bottom": null,
            "display": null,
            "flex": null,
            "flex_flow": null,
            "grid_area": null,
            "grid_auto_columns": null,
            "grid_auto_flow": null,
            "grid_auto_rows": null,
            "grid_column": null,
            "grid_gap": null,
            "grid_row": null,
            "grid_template_areas": null,
            "grid_template_columns": null,
            "grid_template_rows": null,
            "height": null,
            "justify_content": null,
            "justify_items": null,
            "left": null,
            "margin": null,
            "max_height": null,
            "max_width": null,
            "min_height": null,
            "min_width": null,
            "object_fit": null,
            "object_position": null,
            "order": null,
            "overflow": null,
            "overflow_x": null,
            "overflow_y": null,
            "padding": null,
            "right": null,
            "top": null,
            "visibility": null,
            "width": null
          }
        },
        "8751ed6109b14e648ca39d98b9b83f13": {
          "model_module": "@jupyter-widgets/base",
          "model_name": "LayoutModel",
          "model_module_version": "1.2.0",
          "state": {
            "_model_module": "@jupyter-widgets/base",
            "_model_module_version": "1.2.0",
            "_model_name": "LayoutModel",
            "_view_count": null,
            "_view_module": "@jupyter-widgets/base",
            "_view_module_version": "1.2.0",
            "_view_name": "LayoutView",
            "align_content": null,
            "align_items": null,
            "align_self": null,
            "border": null,
            "bottom": null,
            "display": null,
            "flex": null,
            "flex_flow": null,
            "grid_area": null,
            "grid_auto_columns": null,
            "grid_auto_flow": null,
            "grid_auto_rows": null,
            "grid_column": null,
            "grid_gap": null,
            "grid_row": null,
            "grid_template_areas": null,
            "grid_template_columns": null,
            "grid_template_rows": null,
            "height": null,
            "justify_content": null,
            "justify_items": null,
            "left": null,
            "margin": null,
            "max_height": null,
            "max_width": null,
            "min_height": null,
            "min_width": null,
            "object_fit": null,
            "object_position": null,
            "order": null,
            "overflow": null,
            "overflow_x": null,
            "overflow_y": null,
            "padding": null,
            "right": null,
            "top": null,
            "visibility": null,
            "width": null
          }
        },
        "d9ebf40d79634537ab38bd55dae123d3": {
          "model_module": "@jupyter-widgets/controls",
          "model_name": "DescriptionStyleModel",
          "model_module_version": "1.5.0",
          "state": {
            "_model_module": "@jupyter-widgets/controls",
            "_model_module_version": "1.5.0",
            "_model_name": "DescriptionStyleModel",
            "_view_count": null,
            "_view_module": "@jupyter-widgets/base",
            "_view_module_version": "1.2.0",
            "_view_name": "StyleView",
            "description_width": ""
          }
        },
        "9b85e72ad7de4ea18e9ec05e0dff0e19": {
          "model_module": "@jupyter-widgets/base",
          "model_name": "LayoutModel",
          "model_module_version": "1.2.0",
          "state": {
            "_model_module": "@jupyter-widgets/base",
            "_model_module_version": "1.2.0",
            "_model_name": "LayoutModel",
            "_view_count": null,
            "_view_module": "@jupyter-widgets/base",
            "_view_module_version": "1.2.0",
            "_view_name": "LayoutView",
            "align_content": null,
            "align_items": null,
            "align_self": null,
            "border": null,
            "bottom": null,
            "display": null,
            "flex": null,
            "flex_flow": null,
            "grid_area": null,
            "grid_auto_columns": null,
            "grid_auto_flow": null,
            "grid_auto_rows": null,
            "grid_column": null,
            "grid_gap": null,
            "grid_row": null,
            "grid_template_areas": null,
            "grid_template_columns": null,
            "grid_template_rows": null,
            "height": null,
            "justify_content": null,
            "justify_items": null,
            "left": null,
            "margin": null,
            "max_height": null,
            "max_width": null,
            "min_height": null,
            "min_width": null,
            "object_fit": null,
            "object_position": null,
            "order": null,
            "overflow": null,
            "overflow_x": null,
            "overflow_y": null,
            "padding": null,
            "right": null,
            "top": null,
            "visibility": null,
            "width": null
          }
        },
        "ac426404a59b4e45bd7054f87e1365f2": {
          "model_module": "@jupyter-widgets/controls",
          "model_name": "DescriptionStyleModel",
          "model_module_version": "1.5.0",
          "state": {
            "_model_module": "@jupyter-widgets/controls",
            "_model_module_version": "1.5.0",
            "_model_name": "DescriptionStyleModel",
            "_view_count": null,
            "_view_module": "@jupyter-widgets/base",
            "_view_module_version": "1.2.0",
            "_view_name": "StyleView",
            "description_width": ""
          }
        }
      }
    }
  },
  "nbformat": 4,
  "nbformat_minor": 0
}