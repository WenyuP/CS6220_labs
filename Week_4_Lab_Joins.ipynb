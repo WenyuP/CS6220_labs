{
  "nbformat": 4,
  "nbformat_minor": 0,
  "metadata": {
    "colab": {
      "provenance": []
    },
    "kernelspec": {
      "name": "python3",
      "display_name": "Python 3"
    },
    "language_info": {
      "name": "python"
    }
  },
  "cells": [
    {
      "cell_type": "markdown",
      "source": [
        "# Install Packages"
      ],
      "metadata": {
        "id": "2T_Mrxa5o-tW"
      }
    },
    {
      "cell_type": "code",
      "execution_count": 1,
      "metadata": {
        "id": "LCJCYtqtZa1N",
        "colab": {
          "base_uri": "https://localhost:8080/"
        },
        "outputId": "f6e6448d-edf2-4dc7-8d8a-64470ea04af9"
      },
      "outputs": [
        {
          "output_type": "stream",
          "name": "stdout",
          "text": [
            "Collecting pyspark\n",
            "  Downloading pyspark-3.5.0.tar.gz (316.9 MB)\n",
            "\u001b[2K     \u001b[90m━━━━━━━━━━━━━━━━━━━━━━━━━━━━━━━━━━━━━━━━\u001b[0m \u001b[32m316.9/316.9 MB\u001b[0m \u001b[31m2.2 MB/s\u001b[0m eta \u001b[36m0:00:00\u001b[0m\n",
            "\u001b[?25h  Preparing metadata (setup.py) ... \u001b[?25l\u001b[?25hdone\n",
            "Requirement already satisfied: py4j==0.10.9.7 in /usr/local/lib/python3.10/dist-packages (from pyspark) (0.10.9.7)\n",
            "Building wheels for collected packages: pyspark\n",
            "  Building wheel for pyspark (setup.py) ... \u001b[?25l\u001b[?25hdone\n",
            "  Created wheel for pyspark: filename=pyspark-3.5.0-py2.py3-none-any.whl size=317425344 sha256=29667ed862b1905350d98786b187a8202ec2fa3ebfaa588567ed09d09c128c5b\n",
            "  Stored in directory: /root/.cache/pip/wheels/41/4e/10/c2cf2467f71c678cfc8a6b9ac9241e5e44a01940da8fbb17fc\n",
            "Successfully built pyspark\n",
            "Installing collected packages: pyspark\n",
            "Successfully installed pyspark-3.5.0\n",
            "The following additional packages will be installed:\n",
            "  libxtst6 openjdk-8-jre-headless\n",
            "Suggested packages:\n",
            "  openjdk-8-demo openjdk-8-source libnss-mdns fonts-dejavu-extra fonts-nanum fonts-ipafont-gothic\n",
            "  fonts-ipafont-mincho fonts-wqy-microhei fonts-wqy-zenhei fonts-indic\n",
            "The following NEW packages will be installed:\n",
            "  libxtst6 openjdk-8-jdk-headless openjdk-8-jre-headless\n",
            "0 upgraded, 3 newly installed, 0 to remove and 11 not upgraded.\n",
            "Need to get 39.7 MB of archives.\n",
            "After this operation, 144 MB of additional disk space will be used.\n",
            "Selecting previously unselected package libxtst6:amd64.\n",
            "(Reading database ... 120880 files and directories currently installed.)\n",
            "Preparing to unpack .../libxtst6_2%3a1.2.3-1build4_amd64.deb ...\n",
            "Unpacking libxtst6:amd64 (2:1.2.3-1build4) ...\n",
            "Selecting previously unselected package openjdk-8-jre-headless:amd64.\n",
            "Preparing to unpack .../openjdk-8-jre-headless_8u382-ga-1~22.04.1_amd64.deb ...\n",
            "Unpacking openjdk-8-jre-headless:amd64 (8u382-ga-1~22.04.1) ...\n",
            "Selecting previously unselected package openjdk-8-jdk-headless:amd64.\n",
            "Preparing to unpack .../openjdk-8-jdk-headless_8u382-ga-1~22.04.1_amd64.deb ...\n",
            "Unpacking openjdk-8-jdk-headless:amd64 (8u382-ga-1~22.04.1) ...\n",
            "Setting up libxtst6:amd64 (2:1.2.3-1build4) ...\n",
            "Setting up openjdk-8-jre-headless:amd64 (8u382-ga-1~22.04.1) ...\n",
            "update-alternatives: using /usr/lib/jvm/java-8-openjdk-amd64/jre/bin/orbd to provide /usr/bin/orbd (orbd) in auto mode\n",
            "update-alternatives: using /usr/lib/jvm/java-8-openjdk-amd64/jre/bin/servertool to provide /usr/bin/servertool (servertool) in auto mode\n",
            "update-alternatives: using /usr/lib/jvm/java-8-openjdk-amd64/jre/bin/tnameserv to provide /usr/bin/tnameserv (tnameserv) in auto mode\n",
            "Setting up openjdk-8-jdk-headless:amd64 (8u382-ga-1~22.04.1) ...\n",
            "update-alternatives: using /usr/lib/jvm/java-8-openjdk-amd64/bin/clhsdb to provide /usr/bin/clhsdb (clhsdb) in auto mode\n",
            "update-alternatives: using /usr/lib/jvm/java-8-openjdk-amd64/bin/extcheck to provide /usr/bin/extcheck (extcheck) in auto mode\n",
            "update-alternatives: using /usr/lib/jvm/java-8-openjdk-amd64/bin/hsdb to provide /usr/bin/hsdb (hsdb) in auto mode\n",
            "update-alternatives: using /usr/lib/jvm/java-8-openjdk-amd64/bin/idlj to provide /usr/bin/idlj (idlj) in auto mode\n",
            "update-alternatives: using /usr/lib/jvm/java-8-openjdk-amd64/bin/javah to provide /usr/bin/javah (javah) in auto mode\n",
            "update-alternatives: using /usr/lib/jvm/java-8-openjdk-amd64/bin/jhat to provide /usr/bin/jhat (jhat) in auto mode\n",
            "update-alternatives: using /usr/lib/jvm/java-8-openjdk-amd64/bin/jsadebugd to provide /usr/bin/jsadebugd (jsadebugd) in auto mode\n",
            "update-alternatives: using /usr/lib/jvm/java-8-openjdk-amd64/bin/native2ascii to provide /usr/bin/native2ascii (native2ascii) in auto mode\n",
            "update-alternatives: using /usr/lib/jvm/java-8-openjdk-amd64/bin/schemagen to provide /usr/bin/schemagen (schemagen) in auto mode\n",
            "update-alternatives: using /usr/lib/jvm/java-8-openjdk-amd64/bin/wsgen to provide /usr/bin/wsgen (wsgen) in auto mode\n",
            "update-alternatives: using /usr/lib/jvm/java-8-openjdk-amd64/bin/wsimport to provide /usr/bin/wsimport (wsimport) in auto mode\n",
            "update-alternatives: using /usr/lib/jvm/java-8-openjdk-amd64/bin/xjc to provide /usr/bin/xjc (xjc) in auto mode\n",
            "Processing triggers for libc-bin (2.35-0ubuntu3.4) ...\n",
            "/sbin/ldconfig.real: /usr/local/lib/libtbbbind.so.3 is not a symbolic link\n",
            "\n",
            "/sbin/ldconfig.real: /usr/local/lib/libtbbmalloc.so.2 is not a symbolic link\n",
            "\n",
            "/sbin/ldconfig.real: /usr/local/lib/libtbbbind_2_5.so.3 is not a symbolic link\n",
            "\n",
            "/sbin/ldconfig.real: /usr/local/lib/libtbb.so.12 is not a symbolic link\n",
            "\n",
            "/sbin/ldconfig.real: /usr/local/lib/libtbbmalloc_proxy.so.2 is not a symbolic link\n",
            "\n",
            "/sbin/ldconfig.real: /usr/local/lib/libtbbbind_2_0.so.3 is not a symbolic link\n",
            "\n"
          ]
        }
      ],
      "source": [
        "# Install Spark\n",
        "!pip install pyspark\n",
        "!pip install -U -q PyDrive\n",
        "!apt install openjdk-8-jdk-headless -qq\n",
        "\n",
        "# Let's import the libraries we will need\n",
        "import itertools\n",
        "\n",
        "# Import PySpark\n",
        "import pyspark\n",
        "from pyspark.sql import *\n",
        "from pyspark.sql.functions import *\n",
        "from pyspark import SparkContext, SparkConf\n",
        "import os\n",
        "os.environ[\"JAVA_HOME\"] = \"/usr/lib/jvm/java-8-openjdk-amd64\"\n",
        "\n",
        "# create the session\n",
        "conf = SparkConf().set(\"spark.ui.port\", \"4050\")\n",
        "\n",
        "# create the context\n",
        "sc = pyspark.SparkContext(conf=conf)\n",
        "spark = SparkSession.builder.getOrCreate()"
      ]
    },
    {
      "cell_type": "markdown",
      "source": [
        "# Read the Data In\n",
        "\n",
        "Download and read the data in from\n",
        "\n",
        "* https://course.ccs.neu.edu/cs6220/fall2023/lecture-4/id_publishers.csv\n",
        "* https://course.ccs.neu.edu/cs6220/fall2023/lecture-4/id_titles.csv\n",
        "\n",
        "Make sure you explore the data (some titles that have commas also have quotes)."
      ],
      "metadata": {
        "id": "MqnDmzj1oqq3"
      }
    },
    {
      "cell_type": "code",
      "source": [
        "!wget https://course.ccs.neu.edu/cs6220/fall2023/lecture-4/id_publishers.csv\n",
        "!wget https://course.ccs.neu.edu/cs6220/fall2023/lecture-4/id_titles.csv\n",
        "\n",
        "!head -n 10000 id_publishers.csv > id_pubtest1k.csv\n",
        "!head -n 9081 id_titles.csv > id_titletest1k.csv"
      ],
      "metadata": {
        "id": "h7_nLlgOpnJ2",
        "colab": {
          "base_uri": "https://localhost:8080/"
        },
        "outputId": "13eedd42-e96f-4fa3-dcef-db8de761ecba"
      },
      "execution_count": 2,
      "outputs": [
        {
          "output_type": "stream",
          "name": "stdout",
          "text": [
            "--2023-11-29 00:28:38--  https://course.ccs.neu.edu/cs6220/fall2023/lecture-4/id_publishers.csv\n",
            "Resolving course.ccs.neu.edu (course.ccs.neu.edu)... 129.10.117.35\n",
            "Connecting to course.ccs.neu.edu (course.ccs.neu.edu)|129.10.117.35|:443... connected.\n",
            "HTTP request sent, awaiting response... 200 OK\n",
            "Length: 74704360 (71M) [text/csv]\n",
            "Saving to: ‘id_publishers.csv’\n",
            "\n",
            "id_publishers.csv   100%[===================>]  71.24M  41.0MB/s    in 1.7s    \n",
            "\n",
            "2023-11-29 00:28:40 (41.0 MB/s) - ‘id_publishers.csv’ saved [74704360/74704360]\n",
            "\n",
            "--2023-11-29 00:28:40--  https://course.ccs.neu.edu/cs6220/fall2023/lecture-4/id_titles.csv\n",
            "Resolving course.ccs.neu.edu (course.ccs.neu.edu)... 129.10.117.35\n",
            "Connecting to course.ccs.neu.edu (course.ccs.neu.edu)|129.10.117.35|:443... connected.\n",
            "HTTP request sent, awaiting response... 200 OK\n",
            "Length: 39983488 (38M) [text/csv]\n",
            "Saving to: ‘id_titles.csv’\n",
            "\n",
            "id_titles.csv       100%[===================>]  38.13M  34.6MB/s    in 1.1s    \n",
            "\n",
            "2023-11-29 00:28:41 (34.6 MB/s) - ‘id_titles.csv’ saved [39983488/39983488]\n",
            "\n"
          ]
        }
      ]
    },
    {
      "cell_type": "code",
      "source": [
        "#@title Read the data in\n",
        "\n",
        "small_data = False #@param [\"False\", \"True\"] {type:\"raw\"}\n",
        "\n",
        "if small_data:\n",
        "  pdframe = spark.read.option(\"header\", True).csv(\"id_pubtest1k.csv\")\n",
        "  tdframe = spark.read.option(\"header\", True).csv(\"id_titletest1k.csv\")\n",
        "else:\n",
        "  pdframe = spark.read.option(\"header\", True).csv(\"id_publishers.csv\")\n",
        "  tdframe = spark.read.option(\"header\", True).csv(\"id_titles.csv\")\n"
      ],
      "metadata": {
        "id": "Art_nQ_LTPCm"
      },
      "execution_count": 3,
      "outputs": []
    },
    {
      "cell_type": "code",
      "source": [
        "# pdframe.show()\n",
        "# tdframe.show()"
      ],
      "metadata": {
        "id": "0sdww5DKbDOI"
      },
      "execution_count": 4,
      "outputs": []
    },
    {
      "cell_type": "markdown",
      "source": [
        "# Join Types\n",
        "\n",
        "Review all of the [join types](https://www.geeksforgeeks.org/pyspark-join-types-join-two-dataframes/).\n",
        "\n",
        "Do an inner join, an outer join, and a left join."
      ],
      "metadata": {
        "id": "Q_9-IWl8rMWa"
      }
    },
    {
      "cell_type": "code",
      "source": [
        "tp_inner = tdframe.join(pdframe, \"ID\", \"inner\")\n",
        "tp_outer = tdframe.join(pdframe, \"ID\", \"outer\")\n",
        "tp_left = tdframe.join(pdframe, \"ID\", \"left\")\n",
        "\n",
        "tp_inner.show()\n",
        "tp_outer.show()\n",
        "tp_left.show()"
      ],
      "metadata": {
        "colab": {
          "base_uri": "https://localhost:8080/"
        },
        "id": "_xFP2EBHuZ19",
        "outputId": "efc68cea-c664-4f57-a7d7-65b012d7c156"
      },
      "execution_count": 6,
      "outputs": [
        {
          "output_type": "stream",
          "name": "stdout",
          "text": [
            "+------+--------------------+--------------------+--------------------+--------+--------------------+--------------------+--------------------+-------------+\n",
            "|    ID|               TITLE|               STORY|           PUBLISHER|CATEGORY|               STORY|            HOSTNAME|                 URL|    TIMESTAMP|\n",
            "+------+--------------------+--------------------+--------------------+--------+--------------------+--------------------+--------------------+-------------+\n",
            "|   100|McDonald's Not Lo...|d4lvRcSzuglGdFMmq...|      The News Ledge|       b|d4lvRcSzuglGdFMmq...|   www.newsledge.com|http://www.newsle...|1394471390131|\n",
            "|  1000|Buy Titanfall And...|dw0Jnfj8vEPaLZM8T...|     Just Push Start|       t|dw0Jnfj8vEPaLZM8T...|www.justpushstart...|http://www.justpu...|1394493720128|\n",
            "| 10000|Nearly one in thr...|dtBNhkt0YyqHCuM_A...|              Quartz|       t|dtBNhkt0YyqHCuM_A...|              qz.com|http://qz.com/186...|1394714666784|\n",
            "|100000|Obama Nominates B...|dJ_k5DjBr5MzK0MHf...|           Town Hall|       m|dJ_k5DjBr5MzK0MHf...|        townhall.com|http://townhall.c...|1397244249551|\n",
            "|100004|Kathleen Sebelius...|dJ_k5DjBr5MzK0MHf...|   New York Magazine|       m|dJ_k5DjBr5MzK0MHf...|           nymag.com|http://nymag.com/...|1397244923950|\n",
            "|100005|US Health Secreta...|dJ_k5DjBr5MzK0MHf...|    RH Reality Check|       m|dJ_k5DjBr5MzK0MHf...|  rhrealitycheck.org|http://rhrealityc...|1397244924343|\n",
            "|100006|Kathleen Sebelius...|dJ_k5DjBr5MzK0MHf...|            whnt.com|       m|dJ_k5DjBr5MzK0MHf...|            whnt.com|http://whnt.com/2...|1397244924603|\n",
            "|100007|Sebelius steps do...|dJ_k5DjBr5MzK0MHf...|Columbia Daily Tr...|       m|dJ_k5DjBr5MzK0MHf...|www.columbiatribu...|http://www.columb...|1397244924971|\n",
            "|100008|Sebelius quits af...|dJ_k5DjBr5MzK0MHf...|  Healthcare IT News|       m|dJ_k5DjBr5MzK0MHf...|www.healthcareitn...|http://www.health...|1397244925281|\n",
            "|100009|New health secy n...|dJ_k5DjBr5MzK0MHf...| Oman Daily Observer|       m|dJ_k5DjBr5MzK0MHf...|main.omanobserver.om|http://main.omano...|1397244925558|\n",
            "| 10001|Sprint Chairman S...|dtBNhkt0YyqHCuM_A...|            Truthdig|       t|dtBNhkt0YyqHCuM_A...|    www.truthdig.com|http://www.truthd...|1394714708766|\n",
            "|100010|OMB Director Sylv...|dJ_k5DjBr5MzK0MHf...|          GovConWire|       m|dJ_k5DjBr5MzK0MHf...|  www.govconwire.com|http://www.govcon...|1397244925984|\n",
            "|100014|Ted Cruz: Senate ...|dJ_k5DjBr5MzK0MHf...|        Daily Caller|       m|dJ_k5DjBr5MzK0MHf...|     dailycaller.com|http://dailycalle...|1397244927215|\n",
            "|100015|Sebelius' exit op...|dJ_k5DjBr5MzK0MHf...|           allvoices|       m|dJ_k5DjBr5MzK0MHf...|   www.allvoices.com|http://www.allvoi...|1397244927499|\n",
            "|100016|To Lead HHS, Obam...|dJ_k5DjBr5MzK0MHf...|Heritage.org \\(bl...|       m|dJ_k5DjBr5MzK0MHf...|   blog.heritage.org|http://blog.herit...|1397244927843|\n",
            "| 10002|Will SoftBank CEO...|dtBNhkt0YyqHCuM_A...|          Tech Times|       t|dtBNhkt0YyqHCuM_A...|   www.techtimes.com|http://www.techti...|1394714708968|\n",
            "|100020|Kathleen Sebelius...|dJ_k5DjBr5MzK0MHf...|      Bloomberg View|       m|dJ_k5DjBr5MzK0MHf...|www.bloombergview...|http://www.bloomb...|1397244928949|\n",
            "|100021|Kathleen Sebelius...|dJ_k5DjBr5MzK0MHf...|The Economist \\(b...|       m|dJ_k5DjBr5MzK0MHf...|   www.economist.com|http://www.econom...|1397244929208|\n",
            "|100022|Barack Obama says...|dJ_k5DjBr5MzK0MHf...|        The Guardian|       m|dJ_k5DjBr5MzK0MHf...| www.theguardian.com|http://www.thegua...|1397244929535|\n",
            "|100029|Politics | Republ...|dJ_k5DjBr5MzK0MHf...|      World Magazine|       m|dJ_k5DjBr5MzK0MHf...|    www.worldmag.com|http://www.worldm...|1397244932004|\n",
            "+------+--------------------+--------------------+--------------------+--------+--------------------+--------------------+--------------------+-------------+\n",
            "only showing top 20 rows\n",
            "\n",
            "+------+--------------------+--------------------+--------------------+--------+--------------------+--------------------+--------------------+-------------+\n",
            "|    ID|               TITLE|               STORY|           PUBLISHER|CATEGORY|               STORY|            HOSTNAME|                 URL|    TIMESTAMP|\n",
            "+------+--------------------+--------------------+--------------------+--------+--------------------+--------------------+--------------------+-------------+\n",
            "|   100|McDonald's Not Lo...|d4lvRcSzuglGdFMmq...|      The News Ledge|       b|d4lvRcSzuglGdFMmq...|   www.newsledge.com|http://www.newsle...|1394471390131|\n",
            "|  1000|Buy Titanfall And...|dw0Jnfj8vEPaLZM8T...|     Just Push Start|       t|dw0Jnfj8vEPaLZM8T...|www.justpushstart...|http://www.justpu...|1394493720128|\n",
            "| 10000|Nearly one in thr...|dtBNhkt0YyqHCuM_A...|              Quartz|       t|dtBNhkt0YyqHCuM_A...|              qz.com|http://qz.com/186...|1394714666784|\n",
            "|100000|Obama Nominates B...|dJ_k5DjBr5MzK0MHf...|           Town Hall|       m|dJ_k5DjBr5MzK0MHf...|        townhall.com|http://townhall.c...|1397244249551|\n",
            "|100003|Please enable Jav...|dJ_k5DjBr5MzK0MHf...|                NULL|    NULL|                NULL|                NULL|                NULL|         NULL|\n",
            "|100004|Kathleen Sebelius...|dJ_k5DjBr5MzK0MHf...|   New York Magazine|       m|dJ_k5DjBr5MzK0MHf...|           nymag.com|http://nymag.com/...|1397244923950|\n",
            "|100005|US Health Secreta...|dJ_k5DjBr5MzK0MHf...|    RH Reality Check|       m|dJ_k5DjBr5MzK0MHf...|  rhrealitycheck.org|http://rhrealityc...|1397244924343|\n",
            "|100006|Kathleen Sebelius...|dJ_k5DjBr5MzK0MHf...|            whnt.com|       m|dJ_k5DjBr5MzK0MHf...|            whnt.com|http://whnt.com/2...|1397244924603|\n",
            "|100007|Sebelius steps do...|dJ_k5DjBr5MzK0MHf...|Columbia Daily Tr...|       m|dJ_k5DjBr5MzK0MHf...|www.columbiatribu...|http://www.columb...|1397244924971|\n",
            "|100008|Sebelius quits af...|dJ_k5DjBr5MzK0MHf...|  Healthcare IT News|       m|dJ_k5DjBr5MzK0MHf...|www.healthcareitn...|http://www.health...|1397244925281|\n",
            "|100009|New health secy n...|dJ_k5DjBr5MzK0MHf...| Oman Daily Observer|       m|dJ_k5DjBr5MzK0MHf...|main.omanobserver.om|http://main.omano...|1397244925558|\n",
            "| 10001|Sprint Chairman S...|dtBNhkt0YyqHCuM_A...|            Truthdig|       t|dtBNhkt0YyqHCuM_A...|    www.truthdig.com|http://www.truthd...|1394714708766|\n",
            "|100010|OMB Director Sylv...|dJ_k5DjBr5MzK0MHf...|          GovConWire|       m|dJ_k5DjBr5MzK0MHf...|  www.govconwire.com|http://www.govcon...|1397244925984|\n",
            "|100014|Ted Cruz: Senate ...|dJ_k5DjBr5MzK0MHf...|        Daily Caller|       m|dJ_k5DjBr5MzK0MHf...|     dailycaller.com|http://dailycalle...|1397244927215|\n",
            "|100015|Sebelius' exit op...|dJ_k5DjBr5MzK0MHf...|           allvoices|       m|dJ_k5DjBr5MzK0MHf...|   www.allvoices.com|http://www.allvoi...|1397244927499|\n",
            "|100016|To Lead HHS, Obam...|dJ_k5DjBr5MzK0MHf...|Heritage.org \\(bl...|       m|dJ_k5DjBr5MzK0MHf...|   blog.heritage.org|http://blog.herit...|1397244927843|\n",
            "| 10002|Will SoftBank CEO...|dtBNhkt0YyqHCuM_A...|          Tech Times|       t|dtBNhkt0YyqHCuM_A...|   www.techtimes.com|http://www.techti...|1394714708968|\n",
            "|100020|Kathleen Sebelius...|dJ_k5DjBr5MzK0MHf...|      Bloomberg View|       m|dJ_k5DjBr5MzK0MHf...|www.bloombergview...|http://www.bloomb...|1397244928949|\n",
            "|100021|Kathleen Sebelius...|dJ_k5DjBr5MzK0MHf...|The Economist \\(b...|       m|dJ_k5DjBr5MzK0MHf...|   www.economist.com|http://www.econom...|1397244929208|\n",
            "|100022|Barack Obama says...|dJ_k5DjBr5MzK0MHf...|        The Guardian|       m|dJ_k5DjBr5MzK0MHf...| www.theguardian.com|http://www.thegua...|1397244929535|\n",
            "+------+--------------------+--------------------+--------------------+--------+--------------------+--------------------+--------------------+-------------+\n",
            "only showing top 20 rows\n",
            "\n",
            "+------+--------------------+--------------------+--------------------+--------+--------------------+--------------------+--------------------+-------------+\n",
            "|    ID|               TITLE|               STORY|           PUBLISHER|CATEGORY|               STORY|            HOSTNAME|                 URL|    TIMESTAMP|\n",
            "+------+--------------------+--------------------+--------------------+--------+--------------------+--------------------+--------------------+-------------+\n",
            "|144819|Select Comfort Q1...|dduyaODfSGF7D2Mrf...|           Zacks.com|       b|dduyaODfSGF7D2Mrf...|       www.zacks.com|http://www.zacks....|1398106696245|\n",
            "|179655|Study Finds Baby ...|d7_gyEBOeKYHndMo-...|                WIFR|       m|d7_gyEBOeKYHndMo-...|        www.wifr.com|http://www.wifr.c...|1399325173583|\n",
            "|186105|Destiny to receiv...|dCHspZdghQ7u6BMxQ...|         Digital Spy|       t|dCHspZdghQ7u6BMxQ...|  www.digitalspy.com|http://www.digita...|1399444255930|\n",
            "| 19041|Courtney Love Pos...|dtZ-nZvhHTlKkbMF3...|     News Radio Wood|       e|dtZ-nZvhHTlKkbMF3...|   www.woodradio.com|http://www.woodra...|1395164879258|\n",
            "|192358|Alibaba preparing...|dzEn7rv3Rk99ZaMqp...|            CTV News|       b|dzEn7rv3Rk99ZaMqp...|      www.ctvnews.ca|http://www.ctvnew...|1399559627090|\n",
            "|247143|The Normal Heart ...|dMZr2s0r2H_SSqMUq...|Wicked Local Fran...|       e|dMZr2s0r2H_SSqMUq...|franklin.wickedlo...|http://franklin.w...|1400937003753|\n",
            "| 26798|Friends Were Deep...|dwbV-O_ORBq1KMMDp...|               Extra|       e|dwbV-O_ORBq1KMMDp...|     www.extratv.com|http://www.extrat...|1395329994752|\n",
            "|281509|Brazil Is Releasi...|dO7GTFdglzZ29nMtT...|          AllMediaNY|       m|dO7GTFdglzZ29nMtT...|  www.allmediany.com|http://www.allmed...|1402691204490|\n",
            "|294794|Don't cry for me,...|dnF7abUJ25_3jOMp5...|                NULL|    NULL|                NULL|                NULL|                NULL|         NULL|\n",
            "|330106|IKEA Joins Costco...|dsqL_Ftffhd4fNM6b...|    brandchannel.com|       b|dsqL_Ftffhd4fNM6b...|www.brandchannel.com|http://www.brandc...|1403985934783|\n",
            "|377655|ECB's Mario Dragh...|dNVP3c9lv5aP-bM47...|      Economic Times|       b|dNVP3c9lv5aP-bM47...|economictimes.ind...|http://economicti...|1405427758246|\n",
            "|412407|Massive restructu...|dj6968GryMtut9M-o...|         MRO Network|       b|dj6968GryMtut9M-o...| www.mro-network.com|http://www.mro-ne...|1407515973092|\n",
            "| 57707|Facebook to use d...|dvLFMLbLWGz9Z9MuX...|             IBNLive|       t|dvLFMLbLWGz9Z9MuX...|      ibnlive.in.com|http://ibnlive.in...|1396016398332|\n",
            "| 68499|First look: Previ...|d7lO73x8S72aleMd8...|           USA TODAY|       t|d7lO73x8S72aleMd8...|    www.usatoday.com|http://www.usatod...|1396232435886|\n",
            "| 71026|Week ahead: O-Car...|d5irS_flHlBVZBMas...|   The Hill \\(blog\\)|       b|d5irS_flHlBVZBMas...|         thehill.com|http://thehill.co...|1396285593076|\n",
            "| 82191|THE VOICE: RECAP ...|dtfinjhQgO9g9DMbZ...|     TVGrapevine.com|       e|dtfinjhQgO9g9DMbZ...| www.tvgrapevine.com|http://www.tvgrap...|1396438874262|\n",
            "| 92879|Samsung Galaxy S5...|dl_hMP5W9n5HRaMnB...|     The Independent|       t|dl_hMP5W9n5HRaMnB...|www.independent.c...|http://www.indepe...|1396993953785|\n",
            "|103493|Khloe Kardashian ...|diZrKDjXzDYF7ZMZL...|          Daily Mail|       e|diZrKDjXzDYF7ZMZL...| www.dailymail.co.uk|http://www.dailym...|1397298187016|\n",
            "|126563|AC/DC Dispel Reti...|dgp8VNE1ySVCTCM_3...|           Exclaim\\!|       e|dgp8VNE1ySVCTCM_3...|          exclaim.ca|http://exclaim.ca...|1397712108575|\n",
            "|127556|Diabetes complica...|dZRVuKDAaFJcvMMOO...|San Angelo Standa...|       m|dZRVuKDAaFJcvMMOO...| www.gosanangelo.com|http://www.gosana...|1397716895541|\n",
            "+------+--------------------+--------------------+--------------------+--------+--------------------+--------------------+--------------------+-------------+\n",
            "only showing top 20 rows\n",
            "\n"
          ]
        }
      ]
    },
    {
      "cell_type": "code",
      "source": [
        "article_no_publisher = tp_outer.filter(tp_outer['PUBLISHER'].isNull())\n",
        "article_no_title = tp_outer.filter(tp_outer['TITLE'].isNull())\n",
        "\n",
        "article_no_publisher.show()\n",
        "article_no_title.show()"
      ],
      "metadata": {
        "colab": {
          "base_uri": "https://localhost:8080/"
        },
        "id": "4XGX3CJfiYK7",
        "outputId": "370995be-c3e0-4ea5-c73c-b24e7b1bc299"
      },
      "execution_count": null,
      "outputs": [
        {
          "output_type": "stream",
          "name": "stdout",
          "text": [
            "+------+--------------------+--------------------+---------+--------+--------+----+---------+\n",
            "|    ID|               STORY|               TITLE|PUBLISHER|CATEGORY|HOSTNAME| URL|TIMESTAMP|\n",
            "+------+--------------------+--------------------+---------+--------+--------+----+---------+\n",
            "|100033|dJ_k5DjBr5MzK0MHf...|Obama Turns to Se...|     null|    null|    null|null|     null|\n",
            "|100077|dJ_k5DjBr5MzK0MHf...|ACA marches on, d...|     null|    null|    null|null|     null|\n",
            "|100268|dM3BF5lflKhsL6MQ-...|Sen. Menendez's d...|     null|    null|    null|null|     null|\n",
            "|100324|dFxU4YSThH_gU7MT9...|Vaginas, made in ...|     null|    null|    null|null|     null|\n",
            "| 10039|dtBNhkt0YyqHCuM_A...|SoftBank CEO says...|     null|    null|    null|null|     null|\n",
            "|100517|dBU-y8mnlizhV4Mzv...|Today's Biotech S...|     null|    null|    null|null|     null|\n",
            "|100655|dwnBgdLk-3bzGBMNi...|Ebola outbreak re...|     null|    null|    null|null|     null|\n",
            "|100746|dmWc0yBkvZ7rTuMUy...|Cardinal George p...|     null|    null|    null|null|     null|\n",
            "|100793|dou7Qef9Jcn7_IM4Q...|Electrical jolts ...|     null|    null|    null|null|     null|\n",
            "| 10087|d-wxvOPmVk7r-mM6w...|VIDEO: NSA 'hijac...|     null|    null|    null|null|     null|\n",
            "|100888|dk_vhtrqQFe_dsMiu...|Government stockp...|     null|    null|    null|null|     null|\n",
            "|100908|dk_vhtrqQFe_dsMiu...|Review: Millions ...|     null|    null|    null|null|     null|\n",
            "|100957|dk_vhtrqQFe_dsMiu...|Glaxo and Roche s...|     null|    null|    null|null|     null|\n",
            "|100970|dk_vhtrqQFe_dsMiu...|Tamiflu drug 'lar...|     null|    null|    null|null|     null|\n",
            "|101010|dk_vhtrqQFe_dsMiu...|Stockpiled Tamifl...|     null|    null|    null|null|     null|\n",
            "|101071|dDtTmiUm0P1qeMMK8...|GLOBAL MARKETS-Va...|     null|    null|    null|null|     null|\n",
            "|101076|dDtTmiUm0P1qeMMK8...|S&P 500 caps wors...|     null|    null|    null|null|     null|\n",
            "|101082|dDtTmiUm0P1qeMMK8...|Market Close Repo...|     null|    null|    null|null|     null|\n",
            "|101090|dDtTmiUm0P1qeMMK8...|US stocks tumble ...|     null|    null|    null|null|     null|\n",
            "|101118|dDtTmiUm0P1qeMMK8...|Nasdaq Swings Hit...|     null|    null|    null|null|     null|\n",
            "+------+--------------------+--------------------+---------+--------+--------+----+---------+\n",
            "only showing top 20 rows\n",
            "\n",
            "+--------------------+--------------------+-----+--------------------+--------+--------------------+--------------------+-------------+\n",
            "|                  ID|               STORY|TITLE|           PUBLISHER|CATEGORY|            HOSTNAME|                 URL|    TIMESTAMP|\n",
            "+--------------------+--------------------+-----+--------------------+--------+--------------------+--------------------+-------------+\n",
            "|              100235|dM3BF5lflKhsL6MQ-...| null|International Bus...|       m|   www.ibtimes.co.uk|http://www.ibtime...|1397245741407|\n",
            "|              100959|dk_vhtrqQFe_dsMiu...| null|        The Guardian|       m| www.theguardian.com|http://www.thegua...|1397248974998|\n",
            "|              101685|diH5c3lIaLDeqDMv9...| null|   Westword \\(blog\\)|       b|  blogs.westword.com|http://blogs.west...|1397290517781|\n",
            "|              102651|dlylq3eIUFBkLeMMd...| null|                WCNC|       t|        www.wcnc.com|http://www.wcnc.c...|1397294773325|\n",
            "|              105433|d4-74Tn9K1nWyHMUy...| null|            News1130|       b|    www.news1130.com|http://www.news11...|1397347342952|\n",
            "|              107471|dJp791DQ03ZYyaMyz...| null|        Latinos Post|       e| www.latinospost.com|http://www.latino...|1397356316956|\n",
            "|              108301|dBsA-UzGMmu6TcMDq...| null|mySanAntonio.com ...|       t|blog.mysanantonio...|http://blog.mysan...|1397403169183|\n",
            "|              108530|dJZbeDgi9xLQ3EM7b...| null|             Rappler|       t|     www.rappler.com|http://www.rapple...|1397403925515|\n",
            "|               10870|dgrugNy8JhKGJpM4m...| null|     Newstrack India|       e|www.newstrackindi...|http://www.newstr...|1394717928871|\n",
            "|                1089|dw0Jnfj8vEPaLZM8T...| null|  The Westside Story|       t|www.thewestsidest...|http://www.thewes...|1394493740008|\n",
            "|              108935|dltFJk9CHTWRCIM2p...| null|      ChristianToday|       e|www.christiantoda...|http://www.christ...|1397406161516|\n",
            "|              109059|d-AxD0bj6n-icTMhD...| null|           Penn Live|       e|    www.pennlive.com|http://www.pennli...|1397406741790|\n",
            "|              109983|dfDMhAzUcOIdQKM7M...| null|       Deccan Herald|       t|www.deccanherald.com|http://www.deccan...|1397454372613|\n",
            "|              110533|d_65le375XiG6jMs5...| null|International Bus...|       e|   www.ibtimes.co.in|http://www.ibtime...|1397457111520|\n",
            "|              110630|d_65le375XiG6jMs5...| null|         Geekosystem|       e| www.geekosystem.com|http://www.geekos...|1397457139040|\n",
            "|111068\\t'The Hung...|                null| null|                null|    null|                null|                null|         null|\n",
            "|111068\\t'The Hung...|                null| null|                null|    null|                null|                null|         null|\n",
            "|111070\\tMTV Movie...|                null| null|                null|    null|                null|                null|         null|\n",
            "|111071\\tYour Hand...|                null| null|                null|    null|                null|                null|         null|\n",
            "|111074\\tJillian R...|                null| null|                null|    null|                null|                null|         null|\n",
            "+--------------------+--------------------+-----+--------------------+--------+--------------------+--------------------+-------------+\n",
            "only showing top 20 rows\n",
            "\n"
          ]
        }
      ]
    }
  ]
}